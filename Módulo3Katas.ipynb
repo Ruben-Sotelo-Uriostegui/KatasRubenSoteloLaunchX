{
 "cells": [
  {
   "cell_type": "markdown",
   "metadata": {},
   "source": [
    "## Declaraciones if, else, y elif"
   ]
  },
  {
   "cell_type": "markdown",
   "metadata": {},
   "source": [
    "## Problema No. 1"
   ]
  },
  {
   "cell_type": "code",
   "execution_count": 2,
   "metadata": {},
   "outputs": [
    {
     "name": "stdout",
     "output_type": "stream",
     "text": [
      "¡Alerta! ¡Un asteroide se acerca a velocidades peligrosas O:!\n"
     ]
    }
   ],
   "source": [
    "asteroide = 49\n",
    "if asteroide > 25:\n",
    "   print('¡Alerta! ¡Un asteroide se acerca a velocidades peligrosas O:!')\n",
    "else:\n",
    "   print('¡Sigue con tu día C;!')"
   ]
  },
  {
   "cell_type": "markdown",
   "metadata": {},
   "source": [
    "## Problema No. 2"
   ]
  },
  {
   "cell_type": "code",
   "execution_count": 1,
   "metadata": {},
   "outputs": [
    {
     "name": "stdout",
     "output_type": "stream",
     "text": [
      "¡no puedo ver nada!\n"
     ]
    }
   ],
   "source": [
    "asteroide = 19\n",
    "if asteroide > 20:\n",
    "   print('¡Alerta! ¡Luz magica en cielo 0:!')\n",
    "elif asteroide == 20:\n",
    "   print('¡Alerta! ¡Luz magica en cielo 0:!')\n",
    "else:\n",
    "   print('¡no puedo ver nada!')"
   ]
  },
  {
   "cell_type": "markdown",
   "metadata": {},
   "source": [
    "## Problema No. 3"
   ]
  },
  {
   "cell_type": "code",
   "execution_count": 5,
   "metadata": {},
   "outputs": [
    {
     "name": "stdout",
     "output_type": "stream",
     "text": [
      "Mira arriba! ¡Hay una luz mágica en el cielo yep!\n"
     ]
    }
   ],
   "source": [
    "velocidad_asteroide = 25\n",
    "tamano_asteroide = 40\n",
    "if velocidad_asteroide > 25 and tamano_asteroide > 25:\n",
    "    print('¡Alerta, Un asteroide muy peligroso viene hacia la Tierra Omg!')\n",
    "elif velocidad_asteroide >= 20:\n",
    "    print('Mira arriba! ¡Hay una luz mágica en el cielo yep!')\n",
    "elif tamano_asteroide < 25:\n",
    "    print('Nada que ver aquí -.-')\n",
    "else:\n",
    "    print('Nada que ver aquí -.-')"
   ]
  }
 ],
 "metadata": {
  "interpreter": {
   "hash": "c5a62ace80748f2c43f4d12811fea859086e036c5c9c9d9f6acac649e953cf9a"
  },
  "kernelspec": {
   "display_name": "Python 3.9.10 64-bit (windows store)",
   "language": "python",
   "name": "python3"
  },
  "language_info": {
   "codemirror_mode": {
    "name": "ipython",
    "version": 3
   },
   "file_extension": ".py",
   "mimetype": "text/x-python",
   "name": "python",
   "nbconvert_exporter": "python",
   "pygments_lexer": "ipython3",
   "version": "3.9.10"
  },
  "orig_nbformat": 4
 },
 "nbformat": 4,
 "nbformat_minor": 2
}

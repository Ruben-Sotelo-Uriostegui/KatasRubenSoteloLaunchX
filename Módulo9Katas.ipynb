{
 "cells": [
  {
   "cell_type": "markdown",
   "metadata": {},
   "source": [
    "## Ejercicio: Uso de funciones en Python"
   ]
  },
  {
   "cell_type": "code",
   "execution_count": 3,
   "metadata": {},
   "outputs": [
    {
     "name": "stdout",
     "output_type": "stream",
     "text": [
      "Reporte de Combustible:\n",
      "    Media Total: 78.33333333333333%\n",
      "    Tanque Principal: 80%\n",
      "    Tanque Externo: 70%\n",
      "    Tanque de Hidrogeno: 85% \n",
      "    \n",
      "Reporte de Combustible:\n",
      "    Media Total: 78.0%\n",
      "    Tanque Principal: 88%\n",
      "    Tanque Externo: 76%\n",
      "    Tanque de Hidrogeno: 70% \n",
      "    \n"
     ]
    }
   ],
   "source": [
    "def generar_reporte(main_tank, external_tank, hydrogen_tank):\n",
    "    media_total = (main_tank + external_tank + hydrogen_tank) / 3\n",
    "    return f\"\"\"Reporte de Combustible:\n",
    "    Media Total: {media_total}%\n",
    "    Tanque Principal: {main_tank}%\n",
    "    Tanque Externo: {external_tank}%\n",
    "    Tanque de Hidrogeno: {hydrogen_tank}% \n",
    "    \"\"\"\n",
    "#genera reporte\n",
    "print(generar_reporte(80, 70, 85))\n",
    "def promedio(values):\n",
    "    total = sum(values)\n",
    "    number_of_items = len(values)\n",
    "    return total / number_of_items\n",
    "\n",
    "# promedio\n",
    "promedio([80, 85, 81])\n",
    "\n",
    "def generar_reporte(main_tank, external_tank, hydrogen_tank):\n",
    "    return f\"\"\"Reporte de Combustible:\n",
    "    Media Total: {promedio([main_tank, external_tank, hydrogen_tank])}%\n",
    "    Tanque Principal: {main_tank}%\n",
    "    Tanque Externo: {external_tank}%\n",
    "    Tanque de Hidrogeno: {hydrogen_tank}% \n",
    "    \"\"\"\n",
    "# imprimir la funcion que llama a otra funcion para mostar la media total de los tanques\n",
    "print(generar_reporte(88, 76, 70))"
   ]
  },
  {
   "cell_type": "markdown",
   "metadata": {},
   "source": [
    "## Ejercicio 2: Trabajo con argumentos de palabra clave"
   ]
  },
  {
   "cell_type": "code",
   "execution_count": 6,
   "metadata": {},
   "outputs": [
    {
     "name": "stdout",
     "output_type": "stream",
     "text": [
      "\n",
      "    Mission to Luna\n",
      "    Total travel time: 65 minutes\n",
      "    Total fuel left: 500000 gallons\n",
      "    \n",
      "\n",
      "    Mision a la Luna\n",
      "    Total Tiempo Transcurrido: 76 minutes\n",
      "    Total Combustible: 500000\n",
      "    \n",
      "\n",
      "    Mision a la Luna\n",
      "    Total Tiempo Transcurrido: 74 minutes\n",
      "    Total Combustible: 500000\n",
      "    main tank --> 300000 gallons left\n",
      "external tank --> 200000 gallons left\n",
      "\n"
     ]
    }
   ],
   "source": [
    "def reporte_mision(pre_launch_time, flight_time, destination, external_tank, main_tank):\n",
    "    return f\"\"\"\n",
    "    Mission to {destination}\n",
    "    Total travel time: {pre_launch_time + flight_time} minutes\n",
    "    Total fuel left: {external_tank + main_tank} gallons\n",
    "    \"\"\"\n",
    "\n",
    "print(reporte_mision(14, 51, \"Luna\", 200000, 300000))\n",
    "\n",
    "def reporte_mision(destination, *minutes, **fuel_reservoirs):\n",
    "    return f\"\"\"\n",
    "    Mision a la {destination}\n",
    "    Total Tiempo Transcurrido: {sum(minutes)} minutes\n",
    "    Total Combustible: {sum(fuel_reservoirs.values())}\n",
    "    \"\"\"\n",
    "\n",
    "print(reporte_mision(\"Luna\", 10, 15, 51, main=300000, external=200000))\n",
    "\n",
    "def reporte_mision(destination, *minutes, **fuel_reservoirs):\n",
    "    main_report = f\"\"\"\n",
    "    Mision a la {destination}\n",
    "    Total Tiempo Transcurrido: {sum(minutes)} minutes\n",
    "    Total Combustible: {sum(fuel_reservoirs.values())}\n",
    "    \"\"\"\n",
    "    for tank_name, gallons in fuel_reservoirs.items():\n",
    "        main_report += f\"{tank_name} tank --> {gallons} gallons left\\n\"\n",
    "    return main_report\n",
    "\n",
    "print(reporte_mision(\"Luna\", 8, 11, 55, main=300000, external=200000))"
   ]
  }
 ],
 "metadata": {
  "interpreter": {
   "hash": "c5a62ace80748f2c43f4d12811fea859086e036c5c9c9d9f6acac649e953cf9a"
  },
  "kernelspec": {
   "display_name": "Python 3.9.10 64-bit (windows store)",
   "language": "python",
   "name": "python3"
  },
  "language_info": {
   "codemirror_mode": {
    "name": "ipython",
    "version": 3
   },
   "file_extension": ".py",
   "mimetype": "text/x-python",
   "name": "python",
   "nbconvert_exporter": "python",
   "pygments_lexer": "ipython3",
   "version": "3.9.10"
  },
  "orig_nbformat": 4
 },
 "nbformat": 4,
 "nbformat_minor": 2
}
